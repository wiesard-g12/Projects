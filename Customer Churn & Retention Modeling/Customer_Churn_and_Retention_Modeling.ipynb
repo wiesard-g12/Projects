{
 "cells": [
  {
   "cell_type": "code",
   "execution_count": null,
   "id": "2c54c90a",
   "metadata": {},
   "outputs": [],
   "source": []
  }
 ],
 "metadata": {
  "language_info": {
   "name": "python"
  }
 },
 "nbformat": 4,
 "nbformat_minor": 5
}
